{
 "cells": [
  {
   "cell_type": "code",
   "execution_count": 1,
   "metadata": {},
   "outputs": [],
   "source": [
    "import requests"
   ]
  },
  {
   "cell_type": "code",
   "execution_count": 2,
   "metadata": {},
   "outputs": [],
   "source": [
    "from bs4 import BeautifulSoup"
   ]
  },
  {
   "cell_type": "code",
   "execution_count": 11,
   "metadata": {},
   "outputs": [
    {
     "data": {
      "text/plain": [
       "'<!doctype html>\\r\\n<html lang=\"vi\">\\r\\n<!-- HTML5 shim and Respond.js IE8 support of HTML5 elements and media queries -->\\r\\n<!--[if lt IE 9]>\\r\\n  <script src=\"https://cdn.tgdd.vn/v2015/Scripts/desktop/detectie/html5shiv.js\"></script>\\r\\n  <script src=\"https://cdn.tgdd.vn/v2015/Scripts/desktop/detectie/respo'"
      ]
     },
     "execution_count": 11,
     "metadata": {},
     "output_type": "execute_result"
    }
   ],
   "source": [
    "r= requests.get('https://www.thegioididong.com/laptop-apple-macbook')\n",
    "r.text[0:300]\n"
   ]
  },
  {
   "cell_type": "code",
   "execution_count": 26,
   "metadata": {},
   "outputs": [],
   "source": [
    "soup = BeautifulSoup(r.text, 'html.parser')"
   ]
  },
  {
   "cell_type": "code",
   "execution_count": 29,
   "metadata": {},
   "outputs": [],
   "source": [
    "results = soup.find_all('li', attrs={'class':'item laptop'})"
   ]
  },
  {
   "cell_type": "code",
   "execution_count": 30,
   "metadata": {},
   "outputs": [
    {
     "data": {
      "text/plain": [
       "4"
      ]
     },
     "execution_count": 30,
     "metadata": {},
     "output_type": "execute_result"
    }
   ],
   "source": [
    "len(results)"
   ]
  },
  {
   "cell_type": "code",
   "execution_count": 35,
   "metadata": {},
   "outputs": [],
   "source": [
    "first_results = results[0]"
   ]
  },
  {
   "cell_type": "code",
   "execution_count": 34,
   "metadata": {},
   "outputs": [
    {
     "data": {
      "text/plain": [
       "<li class=\"item laptop\" data-position=\"3\" data-productid=\"226169\" data-representid=\"223826\" data-soldcount=\"41\">\n",
       "<a class=\"vertion2020\" href=\"/laptop/apple-macbook-air-2020-i3-mwtj2saa\">\n",
       "<div class=\"heightlabel\">\n",
       "</div>\n",
       "<img height=\"150\" src=\"https://cdn.tgdd.vn/Products/Images/44/226169/apple-macbook-air-2020-i3-11ghz-8gb-256gb-mwtj2sa-400x400.jpg\" width=\"150\"/>\n",
       "<h3>Apple MacBook Air 2020 i3 256GB (MWTJ2SA/A)</h3>\n",
       "<div class=\"props\">\n",
       "<span class=\"dotted\">RAM 8 GB</span>\n",
       "<span class=\"dotted\">Ổ cứng SSD 256GB</span>\n",
       "</div>\n",
       "<div class=\"price\">\n",
       "<strong>28.990.000₫</strong>\n",
       "</div>\n",
       "<div class=\"promo noimage\">\n",
       "<p>Quà <b>1.150.000₫</b></p>\n",
       "</div>\n",
       "<img class=\"icon-imgNew cate44\" src=\"https://cdn.tgdd.vn/ValueIcons/1/Label-Intel-Gen10.png\"/>\n",
       "<figure class=\"bginfo\">\n",
       "<span>Màn hình: 13.3 inch, Retina (2560 x 1600)</span><span>CPU: Intel Core i3 Thế hệ 10, 1.10 GHz</span><span>Đồ họa: Intel Iris Plus Graphics</span><span>Mac OS</span><span> 1.29 kg, Pin: Khoảng 10 giờ</span> </figure>\n",
       "<input class=\"spInfo\" data-brand=\"MacBook\" data-cat=\"Laptop\" data-code=\"0220042001211\" data-price=\"28990000\" data-pro=\"3\" data-version=\"\" id=\"data226169\" name=\"data226169\" type=\"hidden\" value=\"226169\"/>\n",
       "</a>\n",
       "</li>"
      ]
     },
     "execution_count": 34,
     "metadata": {},
     "output_type": "execute_result"
    }
   ],
   "source": [
    "first_results"
   ]
  },
  {
   "cell_type": "code",
   "execution_count": null,
   "metadata": {},
   "outputs": [],
   "source": []
  }
 ],
 "metadata": {
  "kernelspec": {
   "display_name": "Python 3",
   "language": "python",
   "name": "python3"
  },
  "language_info": {
   "codemirror_mode": {
    "name": "ipython",
    "version": 3
   },
   "file_extension": ".py",
   "mimetype": "text/x-python",
   "name": "python",
   "nbconvert_exporter": "python",
   "pygments_lexer": "ipython3",
   "version": "3.8.5"
  }
 },
 "nbformat": 4,
 "nbformat_minor": 4
}
