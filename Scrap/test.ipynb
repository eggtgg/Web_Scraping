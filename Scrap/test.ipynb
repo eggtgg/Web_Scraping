{
 "cells": [
  {
   "cell_type": "code",
   "execution_count": 2,
   "metadata": {},
   "outputs": [],
   "source": [
    "import requests"
   ]
  },
  {
   "cell_type": "code",
   "execution_count": 3,
   "metadata": {},
   "outputs": [],
   "source": [
    "from bs4 import BeautifulSoup"
   ]
  },
  {
   "cell_type": "code",
   "execution_count": 4,
   "metadata": {},
   "outputs": [
    {
     "data": {
      "text/plain": [
       "'<!doctype html>\\r\\n<html lang=\"vi\">\\r\\n<!-- HTML5 shim and Respond.js IE8 support of HTML5 elements and media queries -->\\r\\n<!--[if lt IE 9]>\\r\\n  <script src=\"https://cdn.tgdd.vn/v2015/Scripts/desktop/detectie/html5shiv.js\"></script>\\r\\n  <script src=\"https://cdn.tgdd.vn/v2015/Scripts/desktop/detectie/respo'"
      ]
     },
     "execution_count": 4,
     "metadata": {},
     "output_type": "execute_result"
    }
   ],
   "source": [
    "r= requests.get('https://www.thegioididong.com/laptop-apple-macbook')\n",
    "r.text[0:300]\n"
   ]
  },
  {
   "cell_type": "code",
   "execution_count": 5,
   "metadata": {},
   "outputs": [],
   "source": [
    "soup = BeautifulSoup(r.text, 'html.parser')"
   ]
  },
  {
   "cell_type": "code",
   "execution_count": 6,
   "metadata": {},
   "outputs": [],
   "source": [
    "results = soup.find_all('li', attrs={'class':'item laptop'})"
   ]
  },
  {
   "cell_type": "code",
   "execution_count": 7,
   "metadata": {},
   "outputs": [
    {
     "data": {
      "text/plain": [
       "4"
      ]
     },
     "execution_count": 7,
     "metadata": {},
     "output_type": "execute_result"
    }
   ],
   "source": [
    "len(results)"
   ]
  },
  {
   "cell_type": "code",
   "execution_count": 8,
   "metadata": {},
   "outputs": [],
   "source": [
    "first_results = results[0]"
   ]
  },
  {
   "cell_type": "code",
   "execution_count": 9,
   "metadata": {},
   "outputs": [
    {
     "data": {
      "text/plain": [
       "<li class=\"item laptop\" data-position=\"1\" data-productid=\"106875\" data-representid=\"0\" data-soldcount=\"309\">\n",
       "<a class=\"vertion2020\" href=\"/laptop/apple-macbook-air-mqd32sa-a-i5-5350u\">\n",
       "<div class=\"heightlabel\">\n",
       "</div>\n",
       "<img height=\"150\" src=\"https://cdn.tgdd.vn/Products/Images/44/106875/TimerThumb/apple-macbook-air-mqd32sa-a-i5-5350u-(2).jpg\" width=\"150\"/>\n",
       "<h3>MacBook Air 2017 128GB (MQD32SA/A)</h3>\n",
       "<div class=\"props\">\n",
       "<span class=\"dotted\">RAM 8 GB</span>\n",
       "<span class=\"dotted\">Ổ cứng SSD 128GB</span>\n",
       "</div>\n",
       "<div class=\"price\">\n",
       "<strong>20.990.000₫</strong>\n",
       "</div>\n",
       "<div class=\"promo noimage\">\n",
       "<p>Quà <b>870.000₫</b></p>\n",
       "</div>\n",
       "<div class=\"ratingresult\">\n",
       "<i class=\"icontgdd-ystar\"></i>\n",
       "<i class=\"icontgdd-ystar\"></i>\n",
       "<i class=\"icontgdd-ystar\"></i>\n",
       "<i class=\"icontgdd-ystar\"></i>\n",
       "<i class=\"icontgdd-hstar\"></i>\n",
       "<span>45 đánh giá</span>\n",
       "</div>\n",
       "<figure class=\"bginfo\">\n",
       "<span>Màn hình: 13.3 inch, WXGA+(1440 x 900)</span><span>CPU: Intel Core i5 Broadwell, 1.80 GHz</span><span>Đồ họa: Intel HD Graphics 6000</span><span>Mac OS</span><span> 1.35 Kg, Pin: Khoảng 12 giờ</span> </figure>\n",
       "<input class=\"spInfo\" data-brand=\"MacBook\" data-cat=\"Laptop\" data-code=\"0220042000233\" data-price=\"20990000\" data-pro=\"3\" data-version=\"\" id=\"data106875\" name=\"data106875\" type=\"hidden\" value=\"106875\"/>\n",
       "</a>\n",
       "</li>"
      ]
     },
     "execution_count": 9,
     "metadata": {},
     "output_type": "execute_result"
    }
   ],
   "source": [
    "first_results"
   ]
  },
  {
   "cell_type": "code",
   "execution_count": 10,
   "metadata": {},
   "outputs": [
    {
     "data": {
      "text/plain": [
       "'Ổ cứng SSD 128GB'"
      ]
     },
     "execution_count": 10,
     "metadata": {},
     "output_type": "execute_result"
    }
   ],
   "source": [
    "first_results.find_all('span')[1].text"
   ]
  },
  {
   "cell_type": "code",
   "execution_count": 11,
   "metadata": {},
   "outputs": [],
   "source": [
    "list_a=[]\n",
    "for i in range(7):\n",
    "    list_a.append(first_results.find_all('span')[i].text)"
   ]
  },
  {
   "cell_type": "code",
   "execution_count": 12,
   "metadata": {},
   "outputs": [
    {
     "data": {
      "text/plain": [
       "['RAM 8 GB',\n",
       " 'Ổ cứng SSD 128GB',\n",
       " '45 đánh giá',\n",
       " 'Màn hình: 13.3 inch, WXGA+(1440 x 900)',\n",
       " 'CPU: Intel Core i5 Broadwell, 1.80 GHz',\n",
       " 'Đồ họa: Intel HD Graphics 6000',\n",
       " 'Mac OS']"
      ]
     },
     "execution_count": 12,
     "metadata": {},
     "output_type": "execute_result"
    }
   ],
   "source": [
    "list_a"
   ]
  },
  {
   "cell_type": "code",
   "execution_count": 13,
   "metadata": {},
   "outputs": [
    {
     "data": {
      "text/plain": [
       "'MacBook Air 2017 128GB (MQD32SA/A)'"
      ]
     },
     "execution_count": 13,
     "metadata": {},
     "output_type": "execute_result"
    }
   ],
   "source": [
    "first_results.find('h3').text"
   ]
  },
  {
   "cell_type": "code",
   "execution_count": 14,
   "metadata": {},
   "outputs": [],
   "source": [
    "lol=[]\n",
    "for result in results:\n",
    "    configurations=[]\n",
    "    name_lap=result.find('h3').text\n",
    "    for i in range(7):\n",
    "        list_a.append(result.find_all('span')[i].text)\n",
    "    price=result.find('strong').text\n",
    "    lol.append((name_lap,list_a,price))"
   ]
  },
  {
   "cell_type": "code",
   "execution_count": 15,
   "metadata": {},
   "outputs": [
    {
     "data": {
      "text/plain": [
       "4"
      ]
     },
     "execution_count": 15,
     "metadata": {},
     "output_type": "execute_result"
    }
   ],
   "source": [
    "len(lol)"
   ]
  },
  {
   "cell_type": "code",
   "execution_count": 16,
   "metadata": {},
   "outputs": [
    {
     "data": {
      "text/plain": [
       "[('MacBook Air 2017 128GB (MQD32SA/A)',\n",
       "  ['RAM 8 GB',\n",
       "   'Ổ cứng SSD 128GB',\n",
       "   '45 đánh giá',\n",
       "   'Màn hình: 13.3 inch, WXGA+(1440 x 900)',\n",
       "   'CPU: Intel Core i5 Broadwell, 1.80 GHz',\n",
       "   'Đồ họa: Intel HD Graphics 6000',\n",
       "   'Mac OS',\n",
       "   'RAM 8 GB',\n",
       "   'Ổ cứng SSD 128GB',\n",
       "   '45 đánh giá',\n",
       "   'Màn hình: 13.3 inch, WXGA+(1440 x 900)',\n",
       "   'CPU: Intel Core i5 Broadwell, 1.80 GHz',\n",
       "   'Đồ họa: Intel HD Graphics 6000',\n",
       "   'Mac OS',\n",
       "   'RAM 8 GB',\n",
       "   'Ổ cứng SSD 256GB',\n",
       "   'Màn hình: 13.3 inch, Retina (2560 x 1600)',\n",
       "   'CPU: Intel Core i3 Thế hệ 10, 1.10 GHz',\n",
       "   'Đồ họa: Intel Iris Plus Graphics',\n",
       "   'Mac OS',\n",
       "   ' 1.29 kg, Pin: Khoảng 10 giờ',\n",
       "   'RAM 8 GB',\n",
       "   'Ổ cứng SSD 256GB',\n",
       "   'Màn hình: 13.3 inch, Retina (2560 x 1600)',\n",
       "   'CPU: Intel Core i3 Thế hệ 10, 1.10 GHz',\n",
       "   'Đồ họa: Intel Iris Plus Graphics',\n",
       "   'Mac OS',\n",
       "   ' 1.29 kg, Pin: Khoảng 10 giờ',\n",
       "   'RAM 8 GB',\n",
       "   'Ổ cứng SSD 256GB',\n",
       "   'Màn hình: 13.3 inch, Retina (2560 x 1600)',\n",
       "   'CPU: Intel Core i5 Thế hệ 8, 1.40 GHz',\n",
       "   'Đồ họa: Intel Iris Plus Graphics 645',\n",
       "   'Mac OS',\n",
       "   ' 1.4 kg, Pin: Khoảng 10 giờ'],\n",
       "  '20.990.000₫'),\n",
       " ('MacBook Air 2020 i3 256GB (MWTL2SA/A)',\n",
       "  ['RAM 8 GB',\n",
       "   'Ổ cứng SSD 128GB',\n",
       "   '45 đánh giá',\n",
       "   'Màn hình: 13.3 inch, WXGA+(1440 x 900)',\n",
       "   'CPU: Intel Core i5 Broadwell, 1.80 GHz',\n",
       "   'Đồ họa: Intel HD Graphics 6000',\n",
       "   'Mac OS',\n",
       "   'RAM 8 GB',\n",
       "   'Ổ cứng SSD 128GB',\n",
       "   '45 đánh giá',\n",
       "   'Màn hình: 13.3 inch, WXGA+(1440 x 900)',\n",
       "   'CPU: Intel Core i5 Broadwell, 1.80 GHz',\n",
       "   'Đồ họa: Intel HD Graphics 6000',\n",
       "   'Mac OS',\n",
       "   'RAM 8 GB',\n",
       "   'Ổ cứng SSD 256GB',\n",
       "   'Màn hình: 13.3 inch, Retina (2560 x 1600)',\n",
       "   'CPU: Intel Core i3 Thế hệ 10, 1.10 GHz',\n",
       "   'Đồ họa: Intel Iris Plus Graphics',\n",
       "   'Mac OS',\n",
       "   ' 1.29 kg, Pin: Khoảng 10 giờ',\n",
       "   'RAM 8 GB',\n",
       "   'Ổ cứng SSD 256GB',\n",
       "   'Màn hình: 13.3 inch, Retina (2560 x 1600)',\n",
       "   'CPU: Intel Core i3 Thế hệ 10, 1.10 GHz',\n",
       "   'Đồ họa: Intel Iris Plus Graphics',\n",
       "   'Mac OS',\n",
       "   ' 1.29 kg, Pin: Khoảng 10 giờ',\n",
       "   'RAM 8 GB',\n",
       "   'Ổ cứng SSD 256GB',\n",
       "   'Màn hình: 13.3 inch, Retina (2560 x 1600)',\n",
       "   'CPU: Intel Core i5 Thế hệ 8, 1.40 GHz',\n",
       "   'Đồ họa: Intel Iris Plus Graphics 645',\n",
       "   'Mac OS',\n",
       "   ' 1.4 kg, Pin: Khoảng 10 giờ'],\n",
       "  '28.990.000₫'),\n",
       " ('Apple MacBook Air 2020 i3 256GB (MWTJ2SA/A)',\n",
       "  ['RAM 8 GB',\n",
       "   'Ổ cứng SSD 128GB',\n",
       "   '45 đánh giá',\n",
       "   'Màn hình: 13.3 inch, WXGA+(1440 x 900)',\n",
       "   'CPU: Intel Core i5 Broadwell, 1.80 GHz',\n",
       "   'Đồ họa: Intel HD Graphics 6000',\n",
       "   'Mac OS',\n",
       "   'RAM 8 GB',\n",
       "   'Ổ cứng SSD 128GB',\n",
       "   '45 đánh giá',\n",
       "   'Màn hình: 13.3 inch, WXGA+(1440 x 900)',\n",
       "   'CPU: Intel Core i5 Broadwell, 1.80 GHz',\n",
       "   'Đồ họa: Intel HD Graphics 6000',\n",
       "   'Mac OS',\n",
       "   'RAM 8 GB',\n",
       "   'Ổ cứng SSD 256GB',\n",
       "   'Màn hình: 13.3 inch, Retina (2560 x 1600)',\n",
       "   'CPU: Intel Core i3 Thế hệ 10, 1.10 GHz',\n",
       "   'Đồ họa: Intel Iris Plus Graphics',\n",
       "   'Mac OS',\n",
       "   ' 1.29 kg, Pin: Khoảng 10 giờ',\n",
       "   'RAM 8 GB',\n",
       "   'Ổ cứng SSD 256GB',\n",
       "   'Màn hình: 13.3 inch, Retina (2560 x 1600)',\n",
       "   'CPU: Intel Core i3 Thế hệ 10, 1.10 GHz',\n",
       "   'Đồ họa: Intel Iris Plus Graphics',\n",
       "   'Mac OS',\n",
       "   ' 1.29 kg, Pin: Khoảng 10 giờ',\n",
       "   'RAM 8 GB',\n",
       "   'Ổ cứng SSD 256GB',\n",
       "   'Màn hình: 13.3 inch, Retina (2560 x 1600)',\n",
       "   'CPU: Intel Core i5 Thế hệ 8, 1.40 GHz',\n",
       "   'Đồ họa: Intel Iris Plus Graphics 645',\n",
       "   'Mac OS',\n",
       "   ' 1.4 kg, Pin: Khoảng 10 giờ'],\n",
       "  '28.990.000₫'),\n",
       " ('Apple MacBook Pro Touch 2020 i5 256GB (MXK32SA/A)',\n",
       "  ['RAM 8 GB',\n",
       "   'Ổ cứng SSD 128GB',\n",
       "   '45 đánh giá',\n",
       "   'Màn hình: 13.3 inch, WXGA+(1440 x 900)',\n",
       "   'CPU: Intel Core i5 Broadwell, 1.80 GHz',\n",
       "   'Đồ họa: Intel HD Graphics 6000',\n",
       "   'Mac OS',\n",
       "   'RAM 8 GB',\n",
       "   'Ổ cứng SSD 128GB',\n",
       "   '45 đánh giá',\n",
       "   'Màn hình: 13.3 inch, WXGA+(1440 x 900)',\n",
       "   'CPU: Intel Core i5 Broadwell, 1.80 GHz',\n",
       "   'Đồ họa: Intel HD Graphics 6000',\n",
       "   'Mac OS',\n",
       "   'RAM 8 GB',\n",
       "   'Ổ cứng SSD 256GB',\n",
       "   'Màn hình: 13.3 inch, Retina (2560 x 1600)',\n",
       "   'CPU: Intel Core i3 Thế hệ 10, 1.10 GHz',\n",
       "   'Đồ họa: Intel Iris Plus Graphics',\n",
       "   'Mac OS',\n",
       "   ' 1.29 kg, Pin: Khoảng 10 giờ',\n",
       "   'RAM 8 GB',\n",
       "   'Ổ cứng SSD 256GB',\n",
       "   'Màn hình: 13.3 inch, Retina (2560 x 1600)',\n",
       "   'CPU: Intel Core i3 Thế hệ 10, 1.10 GHz',\n",
       "   'Đồ họa: Intel Iris Plus Graphics',\n",
       "   'Mac OS',\n",
       "   ' 1.29 kg, Pin: Khoảng 10 giờ',\n",
       "   'RAM 8 GB',\n",
       "   'Ổ cứng SSD 256GB',\n",
       "   'Màn hình: 13.3 inch, Retina (2560 x 1600)',\n",
       "   'CPU: Intel Core i5 Thế hệ 8, 1.40 GHz',\n",
       "   'Đồ họa: Intel Iris Plus Graphics 645',\n",
       "   'Mac OS',\n",
       "   ' 1.4 kg, Pin: Khoảng 10 giờ'],\n",
       "  '34.990.000₫')]"
      ]
     },
     "execution_count": 16,
     "metadata": {},
     "output_type": "execute_result"
    }
   ],
   "source": [
    "lol"
   ]
  },
  {
   "cell_type": "code",
   "execution_count": 29,
   "metadata": {},
   "outputs": [],
   "source": [
    "import pandas as pd\n",
    "df = pd.DataFrame(lol, columns=['name', 'configurations', 'price'])"
   ]
  },
  {
   "cell_type": "code",
   "execution_count": 30,
   "metadata": {},
   "outputs": [
    {
     "data": {
      "text/plain": [
       "<bound method NDFrame.head of                                                 name  \\\n",
       "0                 MacBook Air 2017 128GB (MQD32SA/A)   \n",
       "1              MacBook Air 2020 i3 256GB (MWTL2SA/A)   \n",
       "2        Apple MacBook Air 2020 i3 256GB (MWTJ2SA/A)   \n",
       "3  Apple MacBook Pro Touch 2020 i5 256GB (MXK32SA/A)   \n",
       "\n",
       "                                      configurations        price  \n",
       "0  [RAM 8 GB, Ổ cứng SSD 128GB, 45 đánh giá, Màn ...  20.990.000₫  \n",
       "1  [RAM 8 GB, Ổ cứng SSD 128GB, 45 đánh giá, Màn ...  28.990.000₫  \n",
       "2  [RAM 8 GB, Ổ cứng SSD 128GB, 45 đánh giá, Màn ...  28.990.000₫  \n",
       "3  [RAM 8 GB, Ổ cứng SSD 128GB, 45 đánh giá, Màn ...  34.990.000₫  >"
      ]
     },
     "execution_count": 30,
     "metadata": {},
     "output_type": "execute_result"
    }
   ],
   "source": [
    "df.head"
   ]
  },
  {
   "cell_type": "code",
   "execution_count": 31,
   "metadata": {},
   "outputs": [],
   "source": [
    "df.to_csv('lap_type.csv', encoding='UTF-8')"
   ]
  },
  {
   "cell_type": "code",
   "execution_count": null,
   "metadata": {},
   "outputs": [],
   "source": []
  },
  {
   "cell_type": "code",
   "execution_count": null,
   "metadata": {},
   "outputs": [],
   "source": []
  }
 ],
 "metadata": {
  "kernelspec": {
   "display_name": "Python 3",
   "language": "python",
   "name": "python3"
  },
  "language_info": {
   "codemirror_mode": {
    "name": "ipython",
    "version": 3
   },
   "file_extension": ".py",
   "mimetype": "text/x-python",
   "name": "python",
   "nbconvert_exporter": "python",
   "pygments_lexer": "ipython3",
   "version": "3.8.5"
  }
 },
 "nbformat": 4,
 "nbformat_minor": 4
}
