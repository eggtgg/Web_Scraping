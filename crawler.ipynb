{
  "nbformat": 4,
  "nbformat_minor": 0,
  "metadata": {
    "colab": {
      "name": "crawler.ipynb",
      "provenance": [],
      "collapsed_sections": [],
      "toc_visible": true,
      "mount_file_id": "1yPcmlIuWNF62n4DufAAxr19M5tbICtdW",
      "authorship_tag": "ABX9TyMZdR+Z545dA2s2gIC+VysA",
      "include_colab_link": true
    },
    "kernelspec": {
      "name": "python3",
      "display_name": "Python 3"
    }
  },
  "cells": [
    {
      "cell_type": "markdown",
      "metadata": {
        "id": "view-in-github",
        "colab_type": "text"
      },
      "source": [
        "<a href=\"https://colab.research.google.com/github/eggtgg/Web_Scraping/blob/master/crawler.ipynb\" target=\"_parent\"><img src=\"https://colab.research.google.com/assets/colab-badge.svg\" alt=\"Open In Colab\"/></a>"
      ]
    },
    {
      "cell_type": "markdown",
      "metadata": {
        "id": "R4UOQGoe5fmf"
      },
      "source": [
        ""
      ]
    },
    {
      "cell_type": "code",
      "metadata": {
        "id": "ncZBQz0h5vuP"
      },
      "source": [
        "import requests\r\n",
        "from bs4 import BeautifulSoup\r\n",
        "import os"
      ],
      "execution_count": 3,
      "outputs": []
    },
    {
      "cell_type": "code",
      "metadata": {
        "id": "l-48lkqi6X3D"
      },
      "source": [
        "link=requests.get('https://vietnamnet.vn/vn/thoi-su/an-toan-giao-thong/xe-limousine-gay-tai-nan-tham-khoc-do-phong-nhanh-vuot-au-699177.html')"
      ],
      "execution_count": 4,
      "outputs": []
    },
    {
      "cell_type": "code",
      "metadata": {
        "id": "BE3POslF70MB"
      },
      "source": [
        "link_html= BeautifulSoup(link.text,'html.parser')"
      ],
      "execution_count": 6,
      "outputs": []
    },
    {
      "cell_type": "code",
      "metadata": {
        "id": "p8J3eRD383lt"
      },
      "source": [
        "a=link_html('div',class_=\"clearfix item\")"
      ],
      "execution_count": 7,
      "outputs": []
    },
    {
      "cell_type": "code",
      "metadata": {
        "colab": {
          "base_uri": "https://localhost:8080/",
          "height": 35
        },
        "id": "8A86sv5R_qto",
        "outputId": "bb2681d0-a28d-42a3-ae0c-307eb345ce2a"
      },
      "source": [
        "a[1].find('a')['href']"
      ],
      "execution_count": 8,
      "outputs": [
        {
          "output_type": "execute_result",
          "data": {
            "application/vnd.google.colaboratory.intrinsic+json": {
              "type": "string"
            },
            "text/plain": [
              "'/vn/thoi-su/an-toan-giao-thong/co-gai-o-can-tho-chet-thuong-tam-sau-cu-va-cham-voi-xe-tai-699113.html'"
            ]
          },
          "metadata": {
            "tags": []
          },
          "execution_count": 8
        }
      ]
    },
    {
      "cell_type": "code",
      "metadata": {
        "id": "ApeWViJTKVls"
      },
      "source": [
        "s=[]\r\n",
        "\r\n",
        "def claurl(linkcra, i, j):\r\n",
        "\r\n",
        "    link=requests.get(linkcra)\r\n",
        "    link_html= BeautifulSoup(link.text, 'html.parser')\r\n",
        "    a=link_html('div', class_=\"clearfix item\")\r\n",
        "\r\n",
        "    for a_i in a:\r\n",
        "        linkrq ='https://vietnamnet.vn'+ a_i.find('a')['href']\r\n",
        "        if linkrq in s:\r\n",
        "            continue\r\n",
        "        else:\r\n",
        "            s.append(linkrq)\r\n",
        "            file = open('file' + str(i)+ '.html','w')\r\n",
        "            file.write(requests.get(linkrq).text)\r\n",
        "            file.close()\r\n",
        "            i += 1\r\n",
        "\r\n",
        "    j += 1\r\n",
        "\r\n",
        "    if j == 5000:\r\n",
        "        return\r\n",
        "    else:\r\n",
        "        claurl(s[j], i, j)\r\n",
        "\r\n",
        "  "
      ],
      "execution_count": 9,
      "outputs": []
    },
    {
      "cell_type": "code",
      "metadata": {
        "id": "6_8JJoPfAVCg"
      },
      "source": [
        "os.mkdir('test')\r\n",
        "os.chdir('test')\r\n",
        "\r\n"
      ],
      "execution_count": 10,
      "outputs": []
    },
    {
      "cell_type": "code",
      "metadata": {
        "id": "ZslAzT4HExjY"
      },
      "source": [
        "claurl('https://vietnamnet.vn/vn/thoi-su/an-toan-giao-thong/co-gai-o-can-tho-chet-thuong-tam-sau-cu-va-cham-voi-xe-tai-699113.html',0,0)"
      ],
      "execution_count": null,
      "outputs": []
    }
  ]
}